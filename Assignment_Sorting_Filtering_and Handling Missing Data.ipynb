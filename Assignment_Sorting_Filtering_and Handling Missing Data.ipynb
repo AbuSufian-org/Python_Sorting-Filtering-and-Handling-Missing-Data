{
 "cells": [
  {
   "cell_type": "code",
   "execution_count": 1,
   "id": "4919b84b-1c47-49ca-9512-0fac8b988731",
   "metadata": {},
   "outputs": [],
   "source": [
    "import pandas as pd"
   ]
  },
  {
   "cell_type": "code",
   "execution_count": 2,
   "id": "29635aef-9e93-46f8-b405-392cca9c53f5",
   "metadata": {},
   "outputs": [],
   "source": [
    "# Initial DataFrame\n",
    "data = {\n",
    "    'Name': ['Alice', 'Bob', 'Charlie', 'David', 'Eve'],\n",
    "    'Age': [25, 30, 22, 35, 28],\n",
    "    'Salary': [50000, 60000, 45000, 70000, 55000],\n",
    "    'Department': ['HR', 'Finance', 'IT', 'Finance', 'IT']\n",
    "}\n",
    "df = pd.DataFrame(data)"
   ]
  },
  {
   "cell_type": "code",
   "execution_count": 4,
   "id": "3a12acae-f5d9-467a-ad7b-c7ec3c94e971",
   "metadata": {},
   "outputs": [
    {
     "data": {
      "text/html": [
       "<div>\n",
       "<style scoped>\n",
       "    .dataframe tbody tr th:only-of-type {\n",
       "        vertical-align: middle;\n",
       "    }\n",
       "\n",
       "    .dataframe tbody tr th {\n",
       "        vertical-align: top;\n",
       "    }\n",
       "\n",
       "    .dataframe thead th {\n",
       "        text-align: right;\n",
       "    }\n",
       "</style>\n",
       "<table border=\"1\" class=\"dataframe\">\n",
       "  <thead>\n",
       "    <tr style=\"text-align: right;\">\n",
       "      <th></th>\n",
       "      <th>Name</th>\n",
       "      <th>Age</th>\n",
       "      <th>Salary</th>\n",
       "      <th>Department</th>\n",
       "    </tr>\n",
       "  </thead>\n",
       "  <tbody>\n",
       "    <tr>\n",
       "      <th>0</th>\n",
       "      <td>Alice</td>\n",
       "      <td>25</td>\n",
       "      <td>50000</td>\n",
       "      <td>HR</td>\n",
       "    </tr>\n",
       "    <tr>\n",
       "      <th>1</th>\n",
       "      <td>Bob</td>\n",
       "      <td>30</td>\n",
       "      <td>60000</td>\n",
       "      <td>Finance</td>\n",
       "    </tr>\n",
       "    <tr>\n",
       "      <th>2</th>\n",
       "      <td>Charlie</td>\n",
       "      <td>22</td>\n",
       "      <td>45000</td>\n",
       "      <td>IT</td>\n",
       "    </tr>\n",
       "    <tr>\n",
       "      <th>3</th>\n",
       "      <td>David</td>\n",
       "      <td>35</td>\n",
       "      <td>70000</td>\n",
       "      <td>Finance</td>\n",
       "    </tr>\n",
       "    <tr>\n",
       "      <th>4</th>\n",
       "      <td>Eve</td>\n",
       "      <td>28</td>\n",
       "      <td>55000</td>\n",
       "      <td>IT</td>\n",
       "    </tr>\n",
       "  </tbody>\n",
       "</table>\n",
       "</div>"
      ],
      "text/plain": [
       "      Name  Age  Salary Department\n",
       "0    Alice   25   50000         HR\n",
       "1      Bob   30   60000    Finance\n",
       "2  Charlie   22   45000         IT\n",
       "3    David   35   70000    Finance\n",
       "4      Eve   28   55000         IT"
      ]
     },
     "execution_count": 4,
     "metadata": {},
     "output_type": "execute_result"
    }
   ],
   "source": [
    "df"
   ]
  },
  {
   "cell_type": "code",
   "execution_count": 5,
   "id": "1f61932b-a620-49a0-bc49-3ac42af08e43",
   "metadata": {},
   "outputs": [
    {
     "name": "stdout",
     "output_type": "stream",
     "text": [
      "\n",
      "Sorted by Name (Ascending):\n",
      "       Name  Age  Salary Department\n",
      "0    Alice   25   50000         HR\n",
      "1      Bob   30   60000    Finance\n",
      "2  Charlie   22   45000         IT\n",
      "3    David   35   70000    Finance\n",
      "4      Eve   28   55000         IT\n"
     ]
    }
   ],
   "source": [
    "# Task 1: Sort the DataFrame by the 'Name' column in ascending order\n",
    "df_sorted_name = df.sort_values(by='Name', ascending=True)\n",
    "print(\"\\nSorted by Name (Ascending):\\n\", df_sorted_name)"
   ]
  },
  {
   "cell_type": "code",
   "execution_count": 6,
   "id": "b7b56bc6-ea07-4e69-9f80-48b6e43b591f",
   "metadata": {},
   "outputs": [
    {
     "name": "stdout",
     "output_type": "stream",
     "text": [
      "\n",
      "Sorted by Salary (Descending):\n",
      "       Name  Age  Salary Department\n",
      "3    David   35   70000    Finance\n",
      "1      Bob   30   60000    Finance\n",
      "4      Eve   28   55000         IT\n",
      "0    Alice   25   50000         HR\n",
      "2  Charlie   22   45000         IT\n"
     ]
    }
   ],
   "source": [
    "# Task 2: Sort the DataFrame by the 'Salary' column in descending order\n",
    "df_sorted_salary = df.sort_values(by='Salary', ascending=False)\n",
    "print(\"\\nSorted by Salary (Descending):\\n\", df_sorted_salary)"
   ]
  },
  {
   "cell_type": "code",
   "execution_count": 7,
   "id": "84c3b19f-9d7e-402c-953c-378e83c16992",
   "metadata": {},
   "outputs": [
    {
     "name": "stdout",
     "output_type": "stream",
     "text": [
      "\n",
      "Age greater than 25:\n",
      "     Name  Age  Salary Department\n",
      "1    Bob   30   60000    Finance\n",
      "3  David   35   70000    Finance\n",
      "4    Eve   28   55000         IT\n"
     ]
    }
   ],
   "source": [
    "# Task 3: Create a new DataFrame where 'Age' is greater than 25\n",
    "df_age_gt_25 = df[df['Age'] > 25]\n",
    "print(\"\\nAge greater than 25:\\n\", df_age_gt_25)"
   ]
  },
  {
   "cell_type": "code",
   "execution_count": 8,
   "id": "d525018f-174a-4a8c-b582-9047a9957775",
   "metadata": {},
   "outputs": [
    {
     "name": "stdout",
     "output_type": "stream",
     "text": [
      "\n",
      "Department is Finance:\n",
      "     Name  Age  Salary Department\n",
      "1    Bob   30   60000    Finance\n",
      "3  David   35   70000    Finance\n"
     ]
    }
   ],
   "source": [
    "# Task 4: Create a new DataFrame where 'Department' is 'Finance'\n",
    "df_finance = df[df['Department'] == 'Finance']\n",
    "print(\"\\nDepartment is Finance:\\n\", df_finance)"
   ]
  },
  {
   "cell_type": "code",
   "execution_count": 9,
   "id": "990b9d43-faf7-43da-a33a-c980348d3326",
   "metadata": {},
   "outputs": [
    {
     "name": "stdout",
     "output_type": "stream",
     "text": [
      "\n",
      "Salary greater than 55000 (with NaN for others):\n",
      "     Name   Age   Salary Department\n",
      "0    NaN   NaN      NaN        NaN\n",
      "1    Bob  30.0  60000.0    Finance\n",
      "2    NaN   NaN      NaN        NaN\n",
      "3  David  35.0  70000.0    Finance\n",
      "4    NaN   NaN      NaN        NaN\n"
     ]
    }
   ],
   "source": [
    "# Task 5: Use .where() method to create a new DataFrame where 'Salary' is greater than 55000, and replace the rest with NaN\n",
    "df_where_salary = df.where(df['Salary'] > 55000)\n",
    "print(\"\\nSalary greater than 55000 (with NaN for others):\\n\", df_where_salary)"
   ]
  },
  {
   "cell_type": "code",
   "execution_count": 10,
   "id": "fe245f0f-62fc-463f-abd3-d907d50142f6",
   "metadata": {},
   "outputs": [
    {
     "name": "stdout",
     "output_type": "stream",
     "text": [
      "\n",
      "Filtered Columns (Name and Department):\n",
      "       Name Department\n",
      "0    Alice         HR\n",
      "1      Bob    Finance\n",
      "2  Charlie         IT\n",
      "3    David    Finance\n",
      "4      Eve         IT\n"
     ]
    }
   ],
   "source": [
    "# Task 6: Use the .filter() method to filter the columns to include only 'Name' and 'Department'\n",
    "df_filtered_columns = df.filter(items=['Name', 'Department'])\n",
    "print(\"\\nFiltered Columns (Name and Department):\\n\", df_filtered_columns)"
   ]
  },
  {
   "cell_type": "code",
   "execution_count": 11,
   "id": "9ec66f62-57c8-4276-8381-edc1b31d71a9",
   "metadata": {},
   "outputs": [
    {
     "name": "stdout",
     "output_type": "stream",
     "text": [
      "\n",
      "Mean Age of Employees: 28.0\n"
     ]
    }
   ],
   "source": [
    "# Task 7: Calculate the mean age of employees in the DataFrame\n",
    "mean_age = df['Age'].mean()\n",
    "print(\"\\nMean Age of Employees:\", mean_age)"
   ]
  },
  {
   "cell_type": "code",
   "execution_count": 12,
   "id": "ba254903-a0c8-4518-afcb-ba9762c16e36",
   "metadata": {},
   "outputs": [
    {
     "name": "stdout",
     "output_type": "stream",
     "text": [
      "\n",
      "Maximum Salary in the DataFrame: 70000\n"
     ]
    }
   ],
   "source": [
    "# Task 8: Calculate the maximum salary in the DataFrame\n",
    "max_salary = df['Salary'].max()\n",
    "print(\"\\nMaximum Salary in the DataFrame:\", max_salary)"
   ]
  },
  {
   "cell_type": "code",
   "execution_count": 13,
   "id": "9f7da17d-4e2a-469f-952c-5c054674d448",
   "metadata": {},
   "outputs": [
    {
     "name": "stdout",
     "output_type": "stream",
     "text": [
      "\n",
      "DataFrame after removing rows with NaN values:\n",
      "     Name   Age   Salary Department\n",
      "1    Bob  30.0  60000.0    Finance\n",
      "3  David  35.0  70000.0    Finance\n"
     ]
    }
   ],
   "source": [
    "# Task 9: Create a DataFrame where any rows with missing values (NaN) in any column are removed\n",
    "df_no_nan = df_where_salary.dropna()\n",
    "print(\"\\nDataFrame after removing rows with NaN values:\\n\", df_no_nan)"
   ]
  },
  {
   "cell_type": "code",
   "execution_count": 14,
   "id": "e50aec3f-755f-4d3b-ac67-8f4c9458dc33",
   "metadata": {},
   "outputs": [
    {
     "name": "stdout",
     "output_type": "stream",
     "text": [
      "\n",
      "DataFrame after filling missing 'Salary' values with the mean salary:\n",
      "     Name   Age   Salary Department\n",
      "0    NaN   NaN  56000.0        NaN\n",
      "1    Bob  30.0  60000.0    Finance\n",
      "2    NaN   NaN  56000.0        NaN\n",
      "3  David  35.0  70000.0    Finance\n",
      "4    NaN   NaN  56000.0        NaN\n"
     ]
    }
   ],
   "source": [
    "# Task 10: Fill the missing values in the 'Salary' column with the mean salary of the remaining employees\n",
    "mean_salary = df['Salary'].mean()\n",
    "df_filled_salary = df_where_salary.fillna({'Salary': mean_salary})\n",
    "print(\"\\nDataFrame after filling missing 'Salary' values with the mean salary:\\n\", df_filled_salary)"
   ]
  }
 ],
 "metadata": {
  "kernelspec": {
   "display_name": "Python 3 (ipykernel)",
   "language": "python",
   "name": "python3"
  },
  "language_info": {
   "codemirror_mode": {
    "name": "ipython",
    "version": 3
   },
   "file_extension": ".py",
   "mimetype": "text/x-python",
   "name": "python",
   "nbconvert_exporter": "python",
   "pygments_lexer": "ipython3",
   "version": "3.11.7"
  }
 },
 "nbformat": 4,
 "nbformat_minor": 5
}
